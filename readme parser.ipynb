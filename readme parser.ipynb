{
 "cells": [
  {
   "cell_type": "code",
   "execution_count": 62,
   "id": "2786be3a",
   "metadata": {},
   "outputs": [],
   "source": [
    "fpath = 'README.md'\n",
    "with open(fpath, 'rb') as f:\n",
    "    text = f.read()\n",
    "text = text.decode(\"utf-8\") "
   ]
  },
  {
   "cell_type": "code",
   "execution_count": 81,
   "id": "e23d0373",
   "metadata": {},
   "outputs": [],
   "source": [
    "sections = []\n",
    "section = []\n",
    "for i, line in enumerate(text.split('\\n')):\n",
    "    if line.startswith('# '):\n",
    "        if section:\n",
    "            sections.append(section)\n",
    "        section = []\n",
    "    section.append(line)\n",
    "\n",
    "entries = []\n",
    "for i, sec in enumerate(sections):\n",
    "    if i < 1:\n",
    "        continue\n",
    "    entry = {}\n",
    "    entry['heading'], entry['rest'] = sec[0], sec[1:]\n",
    "    entries.append(entry)\n",
    "    \n",
    "from collections import defaultdict\n",
    "\n",
    "subheading = \"\"\n",
    "for entry in entries:\n",
    "    subheadings = defaultdict(list)\n",
    "    for line in entry['rest']:\n",
    "        if line.startswith('* '):\n",
    "            subheading = line.strip()\n",
    "            continue\n",
    "        if subheading:\n",
    "            line = line.strip()\n",
    "            if line:\n",
    "                subheadings[subheading].append(line)\n",
    "    entry.pop('rest')\n",
    "    if subheadings:\n",
    "        entry['subheadings'] = subheadings\n",
    "        \n",
    "errors = []\n",
    "for entry in entries:\n",
    "    if 'subheadings' not in entry:\n",
    "        continue # actually I want to remove these, but deal with it later\n",
    "    for topic, items in entry['subheadings'].items():\n",
    "        recs = []\n",
    "        for item in items:\n",
    "            #if len(item.split('-')) != 3:\n",
    "            #    print((topic, item))\n",
    "\n",
    "            rec = {}\n",
    "            parts = item.split('-')\n",
    "            rec['year_part'], rec['rest'] = parts[0], parts[1:]\n",
    "            try:\n",
    "                rec['year'] = int(rec['year_part'][1:].strip())\n",
    "                rec.pop('year_part')\n",
    "            except ValueError:\n",
    "                errors.append(item)\n",
    "\n",
    "            parts = '-'.join(rec['rest']).split('](')\n",
    "            if len(parts) <2:\n",
    "                continue\n",
    "            if len(parts) > 2:\n",
    "                errors.append(item)\n",
    "                continue\n",
    "            rec['title_part'], rec['rest'] = parts\n",
    "            \n",
    "            parts = rec['rest'].split(') -') \n",
    "            if len(parts) <2:\n",
    "                continue\n",
    "            if len(parts) > 2:\n",
    "                errors.append(item)\n",
    "                continue\n",
    "            rec['url'], rec['authors_part'] = parts\n",
    "            rec.pop('rest')\n",
    "            \n",
    "            if rec['url'].endswith('.pdf'):\n",
    "                rec['is_pdf'] = 'True'\n",
    "                \n",
    "            rec['authors'] = rec['authors_part'].strip().split(',')\n",
    "            rec.pop('authors_part')\n",
    "            \n",
    "            recs.append(rec)\n",
    "            \n",
    "        if recs:\n",
    "            entry['subheadings'][topic] = recs"
   ]
  },
  {
   "cell_type": "code",
   "execution_count": 95,
   "id": "23e51340",
   "metadata": {},
   "outputs": [
    {
     "name": "stdout",
     "output_type": "stream",
     "text": [
      "{'year': 1997, 'title_part': ' (AdaBoost) [\"A Decision-Theoretic Generalization of On-Line Learning and an Application to Boosting\"', 'url': 'https://www.sciencedirect.com/science/article/pii/S002200009791504X', 'authors': ['Yoav Freund', ' Robert E Schapire']}\n",
      "{'year': 1992, 'title_part': ' [A Training Algorithm for Optimal Margin Classifier', 'url': 'https://www.researchgate.net/publication/2376111_A_Training_Algorithm_for_Optimal_Margin_Classifier', 'authors': ['Bernhard E. Boser', ' Isabelle Guyon', ' Vladimir N. Vapnik']}\n",
      "{'year': 1986, 'title_part': ' (ID3) [\"Induction of Decision Trees\"', 'url': 'https://link.springer.com/content/pdf/10.1007/BF00116251.pdf', 'is_pdf': 'True', 'authors': ['J. R. Quinlan']}\n",
      "{'year': 1984, 'title_part': ' (CART) \"Classification and Regression Trees\" - in lieu of the book, here\\'s a [topic summary from 2011', 'url': 'http://pages.stat.wisc.edu/~loh/treeprogs/guide/wires11.pdf', 'is_pdf': 'True', 'authors': ['Breiman L', ' Friedman JH', ' Olshen RA', ' Stone CJ']}\n"
     ]
    },
    {
     "ename": "TypeError",
     "evalue": "string indices must be integers",
     "output_type": "error",
     "traceback": [
      "\u001b[1;31m---------------------------------------------------------------------------\u001b[0m",
      "\u001b[1;31mTypeError\u001b[0m                                 Traceback (most recent call last)",
      "\u001b[1;32m~\\AppData\\Local\\Temp/ipykernel_19944/429631896.py\u001b[0m in \u001b[0;36m<module>\u001b[1;34m\u001b[0m\n\u001b[0;32m      4\u001b[0m     \u001b[1;32mfor\u001b[0m \u001b[0mrecs\u001b[0m \u001b[1;32min\u001b[0m \u001b[0mentry\u001b[0m\u001b[1;33m[\u001b[0m\u001b[1;34m'subheadings'\u001b[0m\u001b[1;33m]\u001b[0m\u001b[1;33m.\u001b[0m\u001b[0mvalues\u001b[0m\u001b[1;33m(\u001b[0m\u001b[1;33m)\u001b[0m\u001b[1;33m:\u001b[0m\u001b[1;33m\u001b[0m\u001b[1;33m\u001b[0m\u001b[0m\n\u001b[0;32m      5\u001b[0m         \u001b[1;32mfor\u001b[0m \u001b[0mrec\u001b[0m \u001b[1;32min\u001b[0m \u001b[0mrecs\u001b[0m\u001b[1;33m:\u001b[0m\u001b[1;33m\u001b[0m\u001b[1;33m\u001b[0m\u001b[0m\n\u001b[1;32m----> 6\u001b[1;33m             \u001b[1;32mif\u001b[0m \u001b[1;32mnot\u001b[0m \u001b[0mrec\u001b[0m\u001b[1;33m[\u001b[0m\u001b[1;34m'title_part'\u001b[0m\u001b[1;33m]\u001b[0m\u001b[1;33m.\u001b[0m\u001b[0mstartswith\u001b[0m\u001b[1;33m(\u001b[0m\u001b[1;34m' [\"'\u001b[0m\u001b[1;33m)\u001b[0m\u001b[1;33m:\u001b[0m\u001b[1;33m\u001b[0m\u001b[1;33m\u001b[0m\u001b[0m\n\u001b[0m\u001b[0;32m      7\u001b[0m                 \u001b[0mprint\u001b[0m\u001b[1;33m(\u001b[0m\u001b[0mrec\u001b[0m\u001b[1;33m)\u001b[0m\u001b[1;33m\u001b[0m\u001b[1;33m\u001b[0m\u001b[0m\n",
      "\u001b[1;31mTypeError\u001b[0m: string indices must be integers"
     ]
    }
   ],
   "source": [
    "for entry in entries:\n",
    "    if 'subheadings' not in entry: # yeesh...\n",
    "        continue\n",
    "    for recs in entry['subheadings'].values():\n",
    "        for rec in recs:\n",
    "            if not rec['title_part'].startswith(' [\"'):\n",
    "                print(rec)"
   ]
  },
  {
   "cell_type": "code",
   "execution_count": 96,
   "id": "fbac87b4",
   "metadata": {},
   "outputs": [
    {
     "data": {
      "text/plain": [
       "'* 1938 - \"The Law of Anomalous Numbers\" - Frank Benford'"
      ]
     },
     "execution_count": 96,
     "metadata": {},
     "output_type": "execute_result"
    }
   ],
   "source": [
    "rec"
   ]
  },
  {
   "cell_type": "code",
   "execution_count": 66,
   "id": "2a2cfe08",
   "metadata": {},
   "outputs": [
    {
     "data": {
      "text/plain": [
       "[' [\"A Multi-Horizon Quantile Recurrent Forecaster\"',\n",
       " 'https://arxiv.org/pdf/1711.11053.pdf) - (Amazon) Ruofeng Wen, Kari Torkkola, Balakrishnan Narayanaswamy, Dhruv Madeka']"
      ]
     },
     "execution_count": 66,
     "metadata": {},
     "output_type": "execute_result"
    }
   ],
   "source": [
    "'-'.join(rec['rest']).split('](')"
   ]
  },
  {
   "cell_type": "code",
   "execution_count": 64,
   "id": "9035ab17",
   "metadata": {},
   "outputs": [
    {
     "data": {
      "text/plain": [
       "['* Uh... here there be dragons. Maybe just leave some breadcrumbs here?',\n",
       " '* Probably discussed sufficiently in the Adam paper',\n",
       " '* see backprop',\n",
       " '* See also AlexNet',\n",
       " '* see also Alex Graves 2013',\n",
       " '* see also knowledge distillation below',\n",
       " '* http://karpathy.github.io/2019/04/25/recipe/']"
      ]
     },
     "execution_count": 64,
     "metadata": {},
     "output_type": "execute_result"
    }
   ],
   "source": [
    "errors"
   ]
  }
 ],
 "metadata": {
  "kernelspec": {
   "display_name": "Python 3 (ipykernel)",
   "language": "python",
   "name": "python3"
  },
  "language_info": {
   "codemirror_mode": {
    "name": "ipython",
    "version": 3
   },
   "file_extension": ".py",
   "mimetype": "text/x-python",
   "name": "python",
   "nbconvert_exporter": "python",
   "pygments_lexer": "ipython3",
   "version": "3.7.10"
  }
 },
 "nbformat": 4,
 "nbformat_minor": 5
}
